{
 "cells": [
  {
   "cell_type": "code",
   "execution_count": null,
   "id": "ed878179",
   "metadata": {},
   "outputs": [],
   "source": [
    "# Dependencies\n",
    "import pandas as pd\n",
    "import numpy as np\n",
    "from pathlib import Path\n",
    "import requests, zipfile, io"
   ]
  },
  {
   "cell_type": "code",
   "execution_count": null,
   "id": "27c6b270",
   "metadata": {},
   "outputs": [],
   "source": [
    "# Import CSVs from Citi Bike System Data @ https://s3.amazonaws.com/tripdata/index.html\n",
    "citi_03_19_data = \"https://s3.amazonaws.com/tripdata/201903-citibike-tripdata.csv.zip\"\n",
    "citi_04_19_data = \"https://s3.amazonaws.com/tripdata/201904-citibike-tripdata.csv.zip\"\n",
    "citi_05_19_data = \"https://s3.amazonaws.com/tripdata/201905-citibike-tripdata.csv.zip\"\n",
    "citi_06_19_data = \"https://s3.amazonaws.com/tripdata/201906-citibike-tripdata.csv.zip\"\n",
    "\n",
    "citi_03_20_data = \"https://s3.amazonaws.com/tripdata/202003-citibike-tripdata.csv.zip\"\n",
    "citi_04_20_data = \"https://s3.amazonaws.com/tripdata/202004-citibike-tripdata.csv.zip\"\n",
    "citi_05_20_data = \"https://s3.amazonaws.com/tripdata/202005-citibike-tripdata.csv.zip\""
   ]
  },
  {
   "cell_type": "code",
   "execution_count": null,
   "id": "cd47b552",
   "metadata": {},
   "outputs": [],
   "source": [
    "# Starting in June 2020, the data is stored in multi-file zips, so instead the csv files were downloaded\n",
    "# locally and read in.\n",
    "citi_06_20_data = \"https://s3.amazonaws.com/tripdata/202006-citibike-tripdata.csv.zip\""
   ]
  },
  {
   "cell_type": "code",
   "execution_count": null,
   "id": "676c7c9b",
   "metadata": {},
   "outputs": [],
   "source": [
    "citi_03_21_data = \"https://s3.amazonaws.com/tripdata/202103-citibike-tripdata.csv.zip\"\n",
    "citi_04_21_data = \"https://s3.amazonaws.com/tripdata/202104-citibike-tripdata.csv.zip\"\n",
    "citi_05_21_data = \"https://s3.amazonaws.com/tripdata/202105-citibike-tripdata.csv.zip\"\n",
    "citi_06_21_data = \"https://s3.amazonaws.com/tripdata/202106-citibike-tripdata.csv.zip\""
   ]
  },
  {
   "cell_type": "code",
   "execution_count": null,
   "id": "e2d158e5",
   "metadata": {},
   "outputs": [],
   "source": [
    "citi_03_22_data = \"https://s3.amazonaws.com/tripdata/202203-citibike-tripdata.csv.zip\"\n",
    "citi_04_22_data = \"https://s3.amazonaws.com/tripdata/202204-citibike-tripdata.csv.zip\"\n",
    "citi_05_22_data = \"https://s3.amazonaws.com/tripdata/202205-citibike-tripdata.csv.zip\"\n",
    "\n",
    "# Note typo in link, this is an error from the source not in the code\n",
    "citi_06_22_data = \"https://s3.amazonaws.com/tripdata/202206-citbike-tripdata.csv.zip\""
   ]
  },
  {
   "cell_type": "code",
   "execution_count": null,
   "id": "e6570325",
   "metadata": {},
   "outputs": [],
   "source": [
    "# Read CSVs\n",
    "citi_03_19 = pd.read_csv(citi_03_19_data)"
   ]
  },
  {
   "cell_type": "code",
   "execution_count": null,
   "id": "ba418c83",
   "metadata": {},
   "outputs": [],
   "source": [
    "citi_04_19 = pd.read_csv(citi_04_19_data)"
   ]
  },
  {
   "cell_type": "code",
   "execution_count": null,
   "id": "14a16a72",
   "metadata": {},
   "outputs": [],
   "source": [
    "citi_05_19 = pd.read_csv(citi_05_19_data)"
   ]
  },
  {
   "cell_type": "code",
   "execution_count": null,
   "id": "8bb312e7",
   "metadata": {},
   "outputs": [],
   "source": [
    "citi_06_19 = pd.read_csv(citi_06_19_data)"
   ]
  },
  {
   "cell_type": "code",
   "execution_count": null,
   "id": "7ffc086d",
   "metadata": {},
   "outputs": [],
   "source": [
    "citi_03_20 = pd.read_csv(citi_03_20_data)"
   ]
  },
  {
   "cell_type": "code",
   "execution_count": null,
   "id": "9aff9f9a",
   "metadata": {},
   "outputs": [],
   "source": [
    "citi_04_20 = pd.read_csv(citi_04_20_data)"
   ]
  },
  {
   "cell_type": "code",
   "execution_count": null,
   "id": "ca9bd8e9",
   "metadata": {},
   "outputs": [],
   "source": [
    "citi_05_20 = pd.read_csv(citi_05_20_data)"
   ]
  },
  {
   "cell_type": "code",
   "execution_count": null,
   "id": "79172cea",
   "metadata": {},
   "outputs": [],
   "source": [
    "# Code to extract one particular zip file adapted from Zecca Lehn @\n",
    "# https://gist.github.com/ZeccaLehn/140edc75ff9d2c7cf9f660028763c9f5\n",
    "filename = '202006-citibike-tripdata.csv'\n",
    "r = requests.get(citi_06_20_data)\n",
    "z = zipfile.ZipFile(io.BytesIO(r.content))\n",
    "z.extractall()\n",
    "citi_06_20 = pd.read_csv(filename, sep=',')"
   ]
  },
  {
   "cell_type": "code",
   "execution_count": null,
   "id": "15d09bb4",
   "metadata": {},
   "outputs": [],
   "source": [
    "filename = '202103-citibike-tripdata.csv'\n",
    "r = requests.get(citi_03_21_data)\n",
    "z = zipfile.ZipFile(io.BytesIO(r.content))\n",
    "z.extractall()\n",
    "citi_03_21 = pd.read_csv(filename, dtype={\"start_station_id\": \"string\", \"end_station_id\": \"string\"})"
   ]
  },
  {
   "cell_type": "code",
   "execution_count": null,
   "id": "24d0eb89",
   "metadata": {},
   "outputs": [],
   "source": [
    "filename = '202104-citibike-tripdata.csv'\n",
    "r = requests.get(citi_04_21_data)\n",
    "z = zipfile.ZipFile(io.BytesIO(r.content))\n",
    "z.extractall()\n",
    "citi_04_21 = pd.read_csv(filename, dtype={\"start_station_id\": \"string\", \"end_station_id\": \"string\"})"
   ]
  },
  {
   "cell_type": "code",
   "execution_count": null,
   "id": "850f4ae2",
   "metadata": {},
   "outputs": [],
   "source": [
    "filename = '202105-citibike-tripdata.csv'\n",
    "r = requests.get(citi_05_21_data)\n",
    "z = zipfile.ZipFile(io.BytesIO(r.content))\n",
    "z.extractall()\n",
    "citi_05_21 = pd.read_csv(filename, dtype={\"start_station_id\": \"string\", \"end_station_id\": \"string\"})"
   ]
  },
  {
   "cell_type": "code",
   "execution_count": null,
   "id": "074fe175",
   "metadata": {},
   "outputs": [],
   "source": [
    "filename = '202106-citibike-tripdata.csv'\n",
    "r = requests.get(citi_06_21_data)\n",
    "z = zipfile.ZipFile(io.BytesIO(r.content))\n",
    "z.extractall()\n",
    "citi_06_21 = pd.read_csv(filename, dtype={\"start_station_id\": \"string\", \"end_station_id\": \"string\"})"
   ]
  },
  {
   "cell_type": "code",
   "execution_count": null,
   "id": "74eead2d",
   "metadata": {},
   "outputs": [],
   "source": [
    "filename = '202203-citibike-tripdata.csv'\n",
    "r = requests.get(citi_03_22_data)\n",
    "z = zipfile.ZipFile(io.BytesIO(r.content))\n",
    "z.extractall()\n",
    "citi_03_22 = pd.read_csv(filename, dtype={\"start_station_id\": \"string\", \"end_station_id\": \"string\"})"
   ]
  },
  {
   "cell_type": "code",
   "execution_count": null,
   "id": "525cefd6",
   "metadata": {},
   "outputs": [],
   "source": [
    "filename = '202204-citibike-tripdata.csv'\n",
    "r = requests.get(citi_04_22_data)\n",
    "z = zipfile.ZipFile(io.BytesIO(r.content))\n",
    "z.extractall()\n",
    "citi_04_22 = pd.read_csv(filename, dtype={\"start_station_id\": \"string\", \"end_station_id\": \"string\"})"
   ]
  },
  {
   "cell_type": "code",
   "execution_count": null,
   "id": "936716cd",
   "metadata": {},
   "outputs": [],
   "source": [
    "filename = '202205-citibike-tripdata.csv'\n",
    "r = requests.get(citi_05_22_data)\n",
    "z = zipfile.ZipFile(io.BytesIO(r.content))\n",
    "z.extractall()\n",
    "citi_05_22 = pd.read_csv(filename, dtype={\"start_station_id\": \"string\", \"end_station_id\": \"string\"})"
   ]
  },
  {
   "cell_type": "code",
   "execution_count": null,
   "id": "28862c83",
   "metadata": {},
   "outputs": [],
   "source": [
    "filename = '202206-citbike-tripdata.csv'\n",
    "r = requests.get(citi_06_22_data)\n",
    "z = zipfile.ZipFile(io.BytesIO(r.content))\n",
    "z.extractall()\n",
    "citi_06_22 = pd.read_csv(filename, dtype={\"start_station_id\": \"string\", \"end_station_id\": \"string\"})"
   ]
  },
  {
   "cell_type": "code",
   "execution_count": null,
   "id": "6f3de7bc",
   "metadata": {},
   "outputs": [],
   "source": [
    "citi_03_19 = citi_03_19.dropna()\n",
    "citi_04_19 = citi_04_19.dropna()\n",
    "citi_05_19 = citi_05_19.dropna()\n",
    "citi_06_19 = citi_06_19.dropna()\n",
    "\n",
    "citi_03_20 = citi_03_20.dropna()\n",
    "citi_04_20 = citi_04_20.dropna()\n",
    "citi_05_20 = citi_05_20.dropna()\n",
    "citi_06_20 = citi_06_20.dropna()\n",
    "\n",
    "citi_03_21 = citi_03_21.dropna()\n",
    "citi_04_21 = citi_04_21.dropna()\n",
    "citi_05_21 = citi_05_21.dropna()\n",
    "citi_06_21 = citi_06_21.dropna()\n",
    "\n",
    "citi_03_22 = citi_03_22.dropna()\n",
    "citi_04_22 = citi_04_22.dropna()\n",
    "citi_05_22 = citi_05_22.dropna()\n",
    "citi_06_22 = citi_06_22.dropna()"
   ]
  },
  {
   "cell_type": "code",
   "execution_count": null,
   "id": "09ed47b3",
   "metadata": {},
   "outputs": [],
   "source": [
    "# Rename & re-order columnsall columns to match 21 & 22 data\n",
    "citi_03_19 = citi_03_19.rename(columns={\"starttime\": \"started_at\", \"stoptime\": \"ended_at\", \\\n",
    "                                        \"start station id\":\"start_station_id\", \"end station id\":\"end_station_id\", \\\n",
    "                                       \"start station name\": \"start_station_name\", \"start station latitude\": \\\n",
    "                                        'start_lat', 'start station longitude': 'start_lng', 'end station longitude':\\\n",
    "                                        'end_lng', 'end station latitude': 'end_lat', \"end station name\": \\\n",
    "                                       \"end_station_name\", \"usertype\": \"member_casual\"})\n",
    "citi_03_19 = citi_03_19[[\"started_at\", \"ended_at\", \"start_station_name\", \"start_station_id\", \"end_station_name\", \\\n",
    "                        \"end_station_id\", \"start_lat\", \"start_lng\", \"end_lat\", \"end_lng\", \"member_casual\"]]\n",
    "\n",
    "citi_04_19 = citi_04_19.rename(columns={\"starttime\": \"started_at\", \"stoptime\": \"ended_at\", \\\n",
    "                                        \"start station id\":\"start_station_id\", \"end station id\":\"end_station_id\", \\\n",
    "                                       \"start station name\": \"start_station_name\", \"start station latitude\": \\\n",
    "                                        'start_lat', 'start station longitude': 'start_lng', 'end station longitude':\\\n",
    "                                        'end_lng', 'end station latitude': 'end_lat', \"end station name\": \\\n",
    "                                       \"end_station_name\", \"usertype\": \"member_casual\"})\n",
    "citi_04_19 = citi_04_19[[\"started_at\", \"ended_at\", \"start_station_name\", \"start_station_id\", \"end_station_name\", \\\n",
    "                        \"end_station_id\", \"start_lat\", \"start_lng\", \"end_lat\", \"end_lng\", \"member_casual\"]]\n",
    "\n",
    "citi_05_19 = citi_05_19.rename(columns={\"starttime\": \"started_at\", \"stoptime\": \"ended_at\", \\\n",
    "                                        \"start station id\":\"start_station_id\", \"end station id\":\"end_station_id\", \\\n",
    "                                       \"start station name\": \"start_station_name\", \"start station latitude\": \\\n",
    "                                        'start_lat', 'start station longitude': 'start_lng', 'end station longitude':\\\n",
    "                                        'end_lng', 'end station latitude': 'end_lat', \"end station name\": \\\n",
    "                                       \"end_station_name\", \"usertype\": \"member_casual\"})\n",
    "citi_05_19 = citi_05_19[[\"started_at\", \"ended_at\", \"start_station_name\", \"start_station_id\", \"end_station_name\", \\\n",
    "                        \"end_station_id\", \"start_lat\", \"start_lng\", \"end_lat\", \"end_lng\", \"member_casual\"]]\n",
    "\n",
    "citi_06_19 = citi_06_19.rename(columns={\"starttime\": \"started_at\", \"stoptime\": \"ended_at\", \\\n",
    "                                        \"start station id\":\"start_station_id\", \"end station id\":\"end_station_id\", \\\n",
    "                                       \"start station name\": \"start_station_name\", \"start station latitude\": \\\n",
    "                                        'start_lat', 'start station longitude': 'start_lng', 'end station longitude':\\\n",
    "                                        'end_lng', 'end station latitude': 'end_lat', \"end station name\": \\\n",
    "                                       \"end_station_name\", \"usertype\": \"member_casual\"})\n",
    "citi_06_19 = citi_06_19[[\"started_at\", \"ended_at\", \"start_station_name\", \"start_station_id\", \"end_station_name\", \\\n",
    "                        \"end_station_id\", \"start_lat\", \"start_lng\", \"end_lat\", \"end_lng\", \"member_casual\"]]"
   ]
  },
  {
   "cell_type": "code",
   "execution_count": null,
   "id": "9a4577c5",
   "metadata": {},
   "outputs": [],
   "source": [
    "# Rename & re-order columnsall columns to match 21 & 22 data\n",
    "citi_03_20 = citi_03_20.rename(columns={\"starttime\": \"started_at\", \"stoptime\": \"ended_at\", \\\n",
    "                                        \"start station id\":\"start_station_id\", \"end station id\":\"end_station_id\", \\\n",
    "                                       \"start station name\": \"start_station_name\", \"start station latitude\": \\\n",
    "                                        'start_lat', 'start station longitude': 'start_lng', 'end station longitude':\\\n",
    "                                        'end_lng', 'end station latitude': 'end_lat', \"end station name\": \\\n",
    "                                       \"end_station_name\", \"usertype\": \"member_casual\"})\n",
    "citi_03_20 = citi_03_20[[\"started_at\", \"ended_at\", \"start_station_name\", \"start_station_id\", \"end_station_name\", \\\n",
    "                        \"end_station_id\", \"start_lat\", \"start_lng\", \"end_lat\", \"end_lng\", \"member_casual\"]]\n",
    "\n",
    "citi_04_20 = citi_04_20.rename(columns={\"starttime\": \"started_at\", \"stoptime\": \"ended_at\", \\\n",
    "                                        \"start station id\":\"start_station_id\", \"end station id\":\"end_station_id\", \\\n",
    "                                       \"start station name\": \"start_station_name\", \"start station latitude\": \\\n",
    "                                        'start_lat', 'start station longitude': 'start_lng', 'end station longitude':\\\n",
    "                                        'end_lng', 'end station latitude': 'end_lat', \"end station name\": \\\n",
    "                                       \"end_station_name\", \"usertype\": \"member_casual\"})\n",
    "citi_04_20 = citi_04_20[[\"started_at\", \"ended_at\", \"start_station_name\", \"start_station_id\", \"end_station_name\", \\\n",
    "                        \"end_station_id\", \"start_lat\", \"start_lng\", \"end_lat\", \"end_lng\", \"member_casual\"]]\n",
    "\n",
    "citi_05_20 = citi_05_20.rename(columns={\"starttime\": \"started_at\", \"stoptime\": \"ended_at\", \\\n",
    "                                        \"start station id\":\"start_station_id\", \"end station id\":\"end_station_id\", \\\n",
    "                                       \"start station name\": \"start_station_name\", \"start station latitude\": \\\n",
    "                                        'start_lat', 'start station longitude': 'start_lng', 'end station longitude':\\\n",
    "                                        'end_lng', 'end station latitude': 'end_lat', \"end station name\": \\\n",
    "                                       \"end_station_name\", \"usertype\": \"member_casual\"})\n",
    "citi_05_20 = citi_05_20[[\"started_at\", \"ended_at\", \"start_station_name\", \"start_station_id\", \"end_station_name\", \\\n",
    "                        \"end_station_id\", \"start_lat\", \"start_lng\", \"end_lat\", \"end_lng\", \"member_casual\"]]\n",
    "\n",
    "citi_06_20 = citi_06_20.rename(columns={\"starttime\": \"started_at\", \"stoptime\": \"ended_at\", \\\n",
    "                                        \"start station id\":\"start_station_id\", \"end station id\":\"end_station_id\", \\\n",
    "                                       \"start station name\": \"start_station_name\", \"start station latitude\": \\\n",
    "                                        'start_lat', 'start station longitude': 'start_lng', 'end station longitude':\\\n",
    "                                        'end_lng', 'end station latitude': 'end_lat', \"end station name\": \\\n",
    "                                       \"end_station_name\", \"usertype\": \"member_casual\"})\n",
    "citi_06_20 = citi_06_20[[\"started_at\", \"ended_at\", \"start_station_name\", \"start_station_id\", \"end_station_name\", \\\n",
    "                        \"end_station_id\", \"start_lat\", \"start_lng\", \"end_lat\", \"end_lng\", \"member_casual\"]]"
   ]
  },
  {
   "cell_type": "code",
   "execution_count": null,
   "id": "88acd567",
   "metadata": {},
   "outputs": [],
   "source": [
    "# Remove rideable type from 21 and 22 data\n",
    "citi_03_21 = citi_03_21[['ride_id', 'started_at', 'ended_at',\n",
    "       'start_station_name', 'start_station_id', 'end_station_name',\n",
    "       'end_station_id', 'start_lat', 'start_lng', 'end_lat', 'end_lng',\n",
    "       'member_casual']]\n",
    "citi_04_21 = citi_04_21[['ride_id', 'started_at', 'ended_at',\n",
    "       'start_station_name', 'start_station_id', 'end_station_name',\n",
    "       'end_station_id', 'start_lat', 'start_lng', 'end_lat', 'end_lng',\n",
    "       'member_casual']]\n",
    "citi_05_21 = citi_05_21[['ride_id', 'started_at', 'ended_at',\n",
    "       'start_station_name', 'start_station_id', 'end_station_name',\n",
    "       'end_station_id', 'start_lat', 'start_lng', 'end_lat', 'end_lng',\n",
    "       'member_casual']]\n",
    "citi_06_21 = citi_06_21[['ride_id', 'started_at', 'ended_at',\n",
    "       'start_station_name', 'start_station_id', 'end_station_name',\n",
    "       'end_station_id', 'start_lat', 'start_lng', 'end_lat', 'end_lng',\n",
    "       'member_casual']]\n",
    "\n",
    "citi_03_22 = citi_03_22[['ride_id', 'started_at', 'ended_at',\n",
    "       'start_station_name', 'start_station_id', 'end_station_name',\n",
    "       'end_station_id', 'start_lat', 'start_lng', 'end_lat', 'end_lng',\n",
    "       'member_casual']]\n",
    "citi_04_22 = citi_04_22[['ride_id', 'started_at', 'ended_at',\n",
    "       'start_station_name', 'start_station_id', 'end_station_name',\n",
    "       'end_station_id', 'start_lat', 'start_lng', 'end_lat', 'end_lng',\n",
    "       'member_casual']]\n",
    "citi_05_22 = citi_05_22[['ride_id', 'started_at', 'ended_at',\n",
    "       'start_station_name', 'start_station_id', 'end_station_name',\n",
    "       'end_station_id', 'start_lat', 'start_lng', 'end_lat', 'end_lng',\n",
    "       'member_casual']]\n",
    "citi_06_22 = citi_06_22[['ride_id', 'started_at', 'ended_at',\n",
    "       'start_station_name', 'start_station_id', 'end_station_name',\n",
    "       'end_station_id', 'start_lat', 'start_lng', 'end_lat', 'end_lng',\n",
    "       'member_casual']]"
   ]
  },
  {
   "cell_type": "code",
   "execution_count": null,
   "id": "2515dbc3",
   "metadata": {},
   "outputs": [],
   "source": [
    "# Filter data to exclude \"winter\" dates\n",
    "# Code adapted from unutbu @ https://stackoverflow.com/questions/29370057/select-dataframe-rows-between-two-dates\n",
    "start_date = \"2019-03-20\"\n",
    "mask = (citi_03_19['started_at'] >= start_date)\n",
    "citi_03_19 = citi_03_19.loc[mask]\n",
    "\n",
    "start_date = \"2020-03-20\"\n",
    "mask = (citi_03_20['started_at'] >= start_date)\n",
    "citi_03_20 = citi_03_20.loc[mask]\n",
    "\n",
    "start_date = \"2021-03-20\"\n",
    "mask = (citi_03_21['started_at'] >= start_date)\n",
    "citi_03_21 = citi_03_21.loc[mask]\n",
    "\n",
    "start_date = \"2022-03-20\"\n",
    "mask = (citi_03_22['started_at'] >= start_date)\n",
    "citi_03_22 = citi_03_22.loc[mask]"
   ]
  },
  {
   "cell_type": "code",
   "execution_count": null,
   "id": "38c1748f",
   "metadata": {},
   "outputs": [],
   "source": [
    "# Filter data to exclude \"summer\" dates\n",
    "end_date = \"2019-06-22\"\n",
    "mask = (citi_06_19['started_at'] < end_date)\n",
    "citi_06_19 = citi_06_19.loc[mask]\n",
    "\n",
    "end_date = \"2020-06-22\"\n",
    "mask = (citi_06_20['started_at'] < end_date)\n",
    "citi_06_20 = citi_06_20.loc[mask]\n",
    "\n",
    "end_date = \"2021-06-22\"\n",
    "mask = (citi_06_21['started_at'] < end_date)\n",
    "citi_06_21 = citi_06_21.loc[mask]\n",
    "\n",
    "end_date = \"2022-06-22\"\n",
    "mask = (citi_06_22['started_at'] < end_date)\n",
    "citi_06_22 = citi_06_22.loc[mask]"
   ]
  },
  {
   "cell_type": "code",
   "execution_count": null,
   "id": "41609658",
   "metadata": {},
   "outputs": [],
   "source": [
    "# Concatenate all months by year\n",
    "spring_2019 = pd.concat([citi_03_19, citi_04_19, citi_05_19, citi_06_19], ignore_index = True)\n",
    "# Code adapted from Ed Chum @ https://stackoverflow.com/questions/40914200/can-i-assign-a-reset-index-a-name\n",
    "spring_2019 = spring_2019.rename_axis('ride_id')\n",
    "\n",
    "spring_2020 = pd.concat([citi_03_20, citi_04_20, citi_05_20, citi_06_20], ignore_index = True)\n",
    "spring_2020 = spring_2020.rename_axis('ride_id')\n",
    "\n",
    "spring_2021 = pd.concat([citi_03_21, citi_04_21, citi_05_21, citi_06_21], ignore_index = True)\n",
    "spring_2021.set_index(\"ride_id\", inplace = True)\n",
    "\n",
    "spring_2022 = pd.concat([citi_03_22, citi_04_22, citi_05_22, citi_06_22], ignore_index = True)\n",
    "spring_2022.set_index(\"ride_id\", inplace = True)\n",
    "# spring_2021"
   ]
  },
  {
   "cell_type": "code",
   "execution_count": null,
   "id": "d1d39f1a",
   "metadata": {},
   "outputs": [],
   "source": [
    "spring_2019 = spring_2019.sample(500000)\n",
    "spring_2020 = spring_2020.sample(500000)\n",
    "spring_2021 = spring_2021.sample(500000)\n",
    "spring_2022 = spring_2022.sample(500000)"
   ]
  },
  {
   "cell_type": "code",
   "execution_count": null,
   "id": "2894b038",
   "metadata": {},
   "outputs": [],
   "source": [
    "# Set index for 2020 to the number following 2019 df\n",
    "spring_2020.index +=500001"
   ]
  },
  {
   "cell_type": "code",
   "execution_count": null,
   "id": "4a4999b4",
   "metadata": {},
   "outputs": [],
   "source": [
    "# Concatenate all years into one\n",
    "spring = pd.concat([spring_2019, spring_2020, spring_2021, spring_2022])\n",
    "spring"
   ]
  },
  {
   "cell_type": "code",
   "execution_count": null,
   "id": "5db2e8c4",
   "metadata": {},
   "outputs": [],
   "source": [
    "# Export csv to resources folder\n",
    "filepath = Path(\"Resources/cleaned/spring.csv\")\n",
    "filepath.parent.mkdir(parents=True, exist_ok=True)\n",
    "spring.to_csv(filepath)"
   ]
  },
  {
   "cell_type": "code",
   "execution_count": null,
   "id": "da8386ea",
   "metadata": {},
   "outputs": [],
   "source": []
  }
 ],
 "metadata": {
  "kernelspec": {
   "display_name": "PythonData",
   "language": "python",
   "name": "pythondata"
  },
  "language_info": {
   "codemirror_mode": {
    "name": "ipython",
    "version": 3
   },
   "file_extension": ".py",
   "mimetype": "text/x-python",
   "name": "python",
   "nbconvert_exporter": "python",
   "pygments_lexer": "ipython3",
   "version": "3.7.7"
  }
 },
 "nbformat": 4,
 "nbformat_minor": 5
}
